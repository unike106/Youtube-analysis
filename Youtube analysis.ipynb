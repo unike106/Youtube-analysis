{
 "cells": [
  {
   "attachments": {},
   "cell_type": "markdown",
   "metadata": {},
   "source": [
    "Abstract:\n",
    "\n",
    "YouTube (the world-famous video sharing website) maintains a list of the top trending\n",
    "videos on the platform. According to Variety magazine, to determine the year's top-trending videos, YouTube uses a combination of factors including measuring users\n",
    "interactions (number of views, shares, comments and likes)\n",
    "\n",
    "\n",
    "\n",
    "Problem Statement:\n",
    "\n",
    "Read the youtube data and perform exploratory data analysis."
   ]
  },
  {
   "attachments": {},
   "cell_type": "markdown",
   "metadata": {},
   "source": [
    "Import necessary libraries"
   ]
  },
  {
   "cell_type": "code",
   "execution_count": 149,
   "metadata": {},
   "outputs": [],
   "source": [
    "import numpy as np\n",
    "import pandas as pd\n",
    "import matplotlib.pyplot as plt\n",
    "import seaborn as sns\n",
    "from scipy.stats import chi2_contingency"
   ]
  },
  {
   "attachments": {},
   "cell_type": "markdown",
   "metadata": {},
   "source": [
    "Load the data set and store it in a Variable"
   ]
  },
  {
   "cell_type": "code",
   "execution_count": 76,
   "metadata": {},
   "outputs": [],
   "source": [
    "train=pd.read_csv('E:/Study materials/Imarticus/python/python project1/10-Project/Dataset/train.csv')"
   ]
  },
  {
   "cell_type": "code",
   "execution_count": 77,
   "metadata": {},
   "outputs": [
    {
     "data": {
      "text/html": [
       "<div>\n",
       "<style scoped>\n",
       "    .dataframe tbody tr th:only-of-type {\n",
       "        vertical-align: middle;\n",
       "    }\n",
       "\n",
       "    .dataframe tbody tr th {\n",
       "        vertical-align: top;\n",
       "    }\n",
       "\n",
       "    .dataframe thead th {\n",
       "        text-align: right;\n",
       "    }\n",
       "</style>\n",
       "<table border=\"1\" class=\"dataframe\">\n",
       "  <thead>\n",
       "    <tr style=\"text-align: right;\">\n",
       "      <th></th>\n",
       "      <th>Video_id</th>\n",
       "      <th>category_id</th>\n",
       "      <th>channel_title</th>\n",
       "      <th>subscriber</th>\n",
       "      <th>title</th>\n",
       "      <th>tags</th>\n",
       "      <th>description</th>\n",
       "      <th>Trend_day_count</th>\n",
       "      <th>Tag_count</th>\n",
       "      <th>Trend_tag_count</th>\n",
       "      <th>comment_count</th>\n",
       "      <th>comment_disabled</th>\n",
       "      <th>like dislike disabled</th>\n",
       "      <th>likes</th>\n",
       "      <th>dislike</th>\n",
       "      <th>tag appered in title</th>\n",
       "      <th>views</th>\n",
       "      <th>Unnamed: 17</th>\n",
       "      <th>Unnamed: 18</th>\n",
       "    </tr>\n",
       "  </thead>\n",
       "  <tbody>\n",
       "    <tr>\n",
       "      <th>0</th>\n",
       "      <td>HDR9SQc79</td>\n",
       "      <td>22</td>\n",
       "      <td>CaseyNeistat</td>\n",
       "      <td>9086142.0</td>\n",
       "      <td>WE WANT TO TALK ABOUT OUR MARRIAGE</td>\n",
       "      <td>SHANtell martin</td>\n",
       "      <td>SHANTELL'S CHANNEL - https://www.youtube.com/s...</td>\n",
       "      <td>6.0</td>\n",
       "      <td>21</td>\n",
       "      <td>6</td>\n",
       "      <td></td>\n",
       "      <td>FALSE</td>\n",
       "      <td>FALSE</td>\n",
       "      <td>13342</td>\n",
       "      <td>6089</td>\n",
       "      <td>False</td>\n",
       "      <td>1978978</td>\n",
       "      <td>NaN</td>\n",
       "      <td>NaN</td>\n",
       "    </tr>\n",
       "    <tr>\n",
       "      <th>1</th>\n",
       "      <td>KNH52UF?48</td>\n",
       "      <td>24</td>\n",
       "      <td>LastWeekTonight</td>\n",
       "      <td>5937292.0</td>\n",
       "      <td>The Trump Presidency: Last Week Tonight with J...</td>\n",
       "      <td>last week tonight trump presidency|last week t...</td>\n",
       "      <td>One year after the presidential election, John...</td>\n",
       "      <td>1.0</td>\n",
       "      <td>23</td>\n",
       "      <td>1</td>\n",
       "      <td>116266</td>\n",
       "      <td>TRUE</td>\n",
       "      <td>FALSE</td>\n",
       "      <td>5761</td>\n",
       "      <td>3044</td>\n",
       "      <td>False</td>\n",
       "      <td>1487870</td>\n",
       "      <td>NaN</td>\n",
       "      <td>NaN</td>\n",
       "    </tr>\n",
       "  </tbody>\n",
       "</table>\n",
       "</div>"
      ],
      "text/plain": [
       "     Video_id category_id    channel_title  subscriber  \\\n",
       "0   HDR9SQc79          22     CaseyNeistat   9086142.0   \n",
       "1  KNH52UF?48          24  LastWeekTonight   5937292.0   \n",
       "\n",
       "                                               title  \\\n",
       "0                 WE WANT TO TALK ABOUT OUR MARRIAGE   \n",
       "1  The Trump Presidency: Last Week Tonight with J...   \n",
       "\n",
       "                                                tags  \\\n",
       "0                                    SHANtell martin   \n",
       "1  last week tonight trump presidency|last week t...   \n",
       "\n",
       "                                         description  Trend_day_count  \\\n",
       "0  SHANTELL'S CHANNEL - https://www.youtube.com/s...              6.0   \n",
       "1  One year after the presidential election, John...              1.0   \n",
       "\n",
       "  Tag_count Trend_tag_count comment_count comment_disabled  \\\n",
       "0        21               6                          FALSE   \n",
       "1        23               1        116266             TRUE   \n",
       "\n",
       "  like dislike disabled  likes dislike tag appered in title    views  \\\n",
       "0                 FALSE  13342    6089                False  1978978   \n",
       "1                 FALSE   5761    3044                False  1487870   \n",
       "\n",
       "   Unnamed: 17 Unnamed: 18  \n",
       "0          NaN         NaN  \n",
       "1          NaN         NaN  "
      ]
     },
     "execution_count": 77,
     "metadata": {},
     "output_type": "execute_result"
    }
   ],
   "source": [
    "train.head(2)"
   ]
  },
  {
   "attachments": {},
   "cell_type": "markdown",
   "metadata": {},
   "source": [
    "Checking the shape"
   ]
  },
  {
   "cell_type": "code",
   "execution_count": 171,
   "metadata": {},
   "outputs": [
    {
     "data": {
      "text/plain": [
       "(2579, 16)"
      ]
     },
     "execution_count": 171,
     "metadata": {},
     "output_type": "execute_result"
    }
   ],
   "source": [
    "train.shape"
   ]
  },
  {
   "attachments": {},
   "cell_type": "markdown",
   "metadata": {},
   "source": [
    "checking the Data types of each column"
   ]
  },
  {
   "cell_type": "code",
   "execution_count": 169,
   "metadata": {},
   "outputs": [
    {
     "data": {
      "text/plain": [
       "Video_id                 object\n",
       "category_id               int32\n",
       "subscriber                int32\n",
       "title                    object\n",
       "tags                     object\n",
       "description              object\n",
       "Trend_day_count           int32\n",
       "Tag_count                 int32\n",
       "Trend_tag_count           int32\n",
       "comment_count             int32\n",
       "comment_disabled         object\n",
       "like dislike disabled    object\n",
       "likes                     int32\n",
       "dislike                   int32\n",
       "tag appered in title     object\n",
       "views                     int32\n",
       "dtype: object"
      ]
     },
     "execution_count": 169,
     "metadata": {},
     "output_type": "execute_result"
    }
   ],
   "source": [
    "train.dtypes"
   ]
  },
  {
   "attachments": {},
   "cell_type": "markdown",
   "metadata": {},
   "source": [
    "Describing the structure fo getting mean, median, mode, etc.,"
   ]
  },
  {
   "cell_type": "code",
   "execution_count": 98,
   "metadata": {},
   "outputs": [
    {
     "data": {
      "text/html": [
       "<div>\n",
       "<style scoped>\n",
       "    .dataframe tbody tr th:only-of-type {\n",
       "        vertical-align: middle;\n",
       "    }\n",
       "\n",
       "    .dataframe tbody tr th {\n",
       "        vertical-align: top;\n",
       "    }\n",
       "\n",
       "    .dataframe thead th {\n",
       "        text-align: right;\n",
       "    }\n",
       "</style>\n",
       "<table border=\"1\" class=\"dataframe\">\n",
       "  <thead>\n",
       "    <tr style=\"text-align: right;\">\n",
       "      <th></th>\n",
       "      <th>category_id</th>\n",
       "      <th>subscriber</th>\n",
       "      <th>Trend_day_count</th>\n",
       "      <th>Tag_count</th>\n",
       "      <th>Trend_tag_count</th>\n",
       "      <th>comment_count</th>\n",
       "      <th>likes</th>\n",
       "      <th>dislike</th>\n",
       "      <th>views</th>\n",
       "    </tr>\n",
       "  </thead>\n",
       "  <tbody>\n",
       "    <tr>\n",
       "      <th>count</th>\n",
       "      <td>3198.000000</td>\n",
       "      <td>3.198000e+03</td>\n",
       "      <td>3198.00000</td>\n",
       "      <td>3198.000000</td>\n",
       "      <td>3198.000000</td>\n",
       "      <td>3198.000000</td>\n",
       "      <td>3.198000e+03</td>\n",
       "      <td>3198.000000</td>\n",
       "      <td>3.198000e+03</td>\n",
       "    </tr>\n",
       "    <tr>\n",
       "      <th>mean</th>\n",
       "      <td>20.367104</td>\n",
       "      <td>3.823981e+06</td>\n",
       "      <td>7.96404</td>\n",
       "      <td>18.620388</td>\n",
       "      <td>7.119762</td>\n",
       "      <td>164470.538462</td>\n",
       "      <td>9.766148e+03</td>\n",
       "      <td>5784.686054</td>\n",
       "      <td>1.571851e+06</td>\n",
       "    </tr>\n",
       "    <tr>\n",
       "      <th>std</th>\n",
       "      <td>7.328586</td>\n",
       "      <td>2.855444e+07</td>\n",
       "      <td>78.54377</td>\n",
       "      <td>80.354184</td>\n",
       "      <td>175.056764</td>\n",
       "      <td>67013.429359</td>\n",
       "      <td>2.240330e+04</td>\n",
       "      <td>4859.994228</td>\n",
       "      <td>2.053532e+07</td>\n",
       "    </tr>\n",
       "    <tr>\n",
       "      <th>min</th>\n",
       "      <td>1.000000</td>\n",
       "      <td>0.000000e+00</td>\n",
       "      <td>0.00000</td>\n",
       "      <td>0.000000</td>\n",
       "      <td>1.000000</td>\n",
       "      <td>10.000000</td>\n",
       "      <td>0.000000e+00</td>\n",
       "      <td>0.000000</td>\n",
       "      <td>1.000000e+00</td>\n",
       "    </tr>\n",
       "    <tr>\n",
       "      <th>25%</th>\n",
       "      <td>17.000000</td>\n",
       "      <td>2.428800e+05</td>\n",
       "      <td>4.00000</td>\n",
       "      <td>12.000000</td>\n",
       "      <td>2.000000</td>\n",
       "      <td>126760.750000</td>\n",
       "      <td>0.000000e+00</td>\n",
       "      <td>0.000000</td>\n",
       "      <td>4.306332e+05</td>\n",
       "    </tr>\n",
       "    <tr>\n",
       "      <th>50%</th>\n",
       "      <td>24.000000</td>\n",
       "      <td>1.281938e+06</td>\n",
       "      <td>7.00000</td>\n",
       "      <td>17.000000</td>\n",
       "      <td>4.000000</td>\n",
       "      <td>163785.000000</td>\n",
       "      <td>1.022150e+04</td>\n",
       "      <td>5360.000000</td>\n",
       "      <td>7.081770e+05</td>\n",
       "    </tr>\n",
       "    <tr>\n",
       "      <th>75%</th>\n",
       "      <td>25.000000</td>\n",
       "      <td>3.823980e+06</td>\n",
       "      <td>10.00000</td>\n",
       "      <td>21.000000</td>\n",
       "      <td>6.000000</td>\n",
       "      <td>203208.250000</td>\n",
       "      <td>1.505300e+04</td>\n",
       "      <td>10040.250000</td>\n",
       "      <td>1.204446e+06</td>\n",
       "    </tr>\n",
       "    <tr>\n",
       "      <th>max</th>\n",
       "      <td>43.000000</td>\n",
       "      <td>1.576229e+09</td>\n",
       "      <td>4444.00000</td>\n",
       "      <td>3225.000000</td>\n",
       "      <td>9903.000000</td>\n",
       "      <td>299877.000000</td>\n",
       "      <td>1.213628e+06</td>\n",
       "      <td>14858.000000</td>\n",
       "      <td>9.898735e+08</td>\n",
       "    </tr>\n",
       "  </tbody>\n",
       "</table>\n",
       "</div>"
      ],
      "text/plain": [
       "       category_id    subscriber  Trend_day_count    Tag_count  \\\n",
       "count  3198.000000  3.198000e+03       3198.00000  3198.000000   \n",
       "mean     20.367104  3.823981e+06          7.96404    18.620388   \n",
       "std       7.328586  2.855444e+07         78.54377    80.354184   \n",
       "min       1.000000  0.000000e+00          0.00000     0.000000   \n",
       "25%      17.000000  2.428800e+05          4.00000    12.000000   \n",
       "50%      24.000000  1.281938e+06          7.00000    17.000000   \n",
       "75%      25.000000  3.823980e+06         10.00000    21.000000   \n",
       "max      43.000000  1.576229e+09       4444.00000  3225.000000   \n",
       "\n",
       "       Trend_tag_count  comment_count         likes       dislike  \\\n",
       "count      3198.000000    3198.000000  3.198000e+03   3198.000000   \n",
       "mean          7.119762  164470.538462  9.766148e+03   5784.686054   \n",
       "std         175.056764   67013.429359  2.240330e+04   4859.994228   \n",
       "min           1.000000      10.000000  0.000000e+00      0.000000   \n",
       "25%           2.000000  126760.750000  0.000000e+00      0.000000   \n",
       "50%           4.000000  163785.000000  1.022150e+04   5360.000000   \n",
       "75%           6.000000  203208.250000  1.505300e+04  10040.250000   \n",
       "max        9903.000000  299877.000000  1.213628e+06  14858.000000   \n",
       "\n",
       "              views  \n",
       "count  3.198000e+03  \n",
       "mean   1.571851e+06  \n",
       "std    2.053532e+07  \n",
       "min    1.000000e+00  \n",
       "25%    4.306332e+05  \n",
       "50%    7.081770e+05  \n",
       "75%    1.204446e+06  \n",
       "max    9.898735e+08  "
      ]
     },
     "execution_count": 98,
     "metadata": {},
     "output_type": "execute_result"
    }
   ],
   "source": [
    "train.describe()"
   ]
  },
  {
   "attachments": {},
   "cell_type": "markdown",
   "metadata": {},
   "source": [
    "Counting the null values in the Data set"
   ]
  },
  {
   "cell_type": "code",
   "execution_count": 79,
   "metadata": {},
   "outputs": [
    {
     "data": {
      "text/plain": [
       "Video_id                    0\n",
       "category_id                 6\n",
       "channel_title               3\n",
       "subscriber                 23\n",
       "title                       3\n",
       "tags                      152\n",
       "description                65\n",
       "Trend_day_count             1\n",
       "Tag_count                   1\n",
       "Trend_tag_count             1\n",
       "comment_count               0\n",
       "comment_disabled            0\n",
       "like dislike disabled       0\n",
       "likes                       0\n",
       "dislike                     0\n",
       "tag appered in title        1\n",
       "views                       0\n",
       "Unnamed: 17              3197\n",
       "Unnamed: 18              3197\n",
       "dtype: int64"
      ]
     },
     "execution_count": 79,
     "metadata": {},
     "output_type": "execute_result"
    }
   ],
   "source": [
    "train.isna().sum()"
   ]
  },
  {
   "cell_type": "markdown",
   "metadata": {},
   "source": [
    "Dropping the unwanted columns\n"
   ]
  },
  {
   "cell_type": "code",
   "execution_count": 80,
   "metadata": {},
   "outputs": [],
   "source": [
    "train.drop(['Unnamed: 17','Unnamed: 18'],axis=1,inplace=True)"
   ]
  },
  {
   "cell_type": "code",
   "execution_count": null,
   "metadata": {},
   "outputs": [],
   "source": [
    "train.drop(['channel_title'],axis=1,inplace=True)"
   ]
  },
  {
   "attachments": {},
   "cell_type": "markdown",
   "metadata": {},
   "source": [
    "Checking for duplicated values"
   ]
  },
  {
   "cell_type": "code",
   "execution_count": 82,
   "metadata": {},
   "outputs": [
    {
     "data": {
      "text/plain": [
       "0"
      ]
     },
     "execution_count": 82,
     "metadata": {},
     "output_type": "execute_result"
    }
   ],
   "source": [
    "train.duplicated().sum()"
   ]
  },
  {
   "attachments": {},
   "cell_type": "markdown",
   "metadata": {},
   "source": [
    "Hence there is no duplicates in our data, we are leaving as it is. Else we have to drop those duplicates."
   ]
  },
  {
   "attachments": {},
   "cell_type": "markdown",
   "metadata": {},
   "source": [
    "There are some variables they are in object data type, which are to be in numeric formats, hence we are converting it to numeric format."
   ]
  },
  {
   "cell_type": "code",
   "execution_count": 85,
   "metadata": {},
   "outputs": [],
   "source": [
    "train['category_id']=pd.to_numeric(train['category_id'],errors='coerce')\n",
    "train['Tag_count']=pd.to_numeric(train['Tag_count'],errors='coerce')\n",
    "train['Trend_tag_count']=pd.to_numeric(train['Trend_tag_count'],errors='coerce')\n",
    "train['comment_count']=pd.to_numeric(train['comment_count'],errors='coerce')\n",
    "train['likes']=pd.to_numeric(train['likes'],errors='coerce')\n",
    "train['dislike']=pd.to_numeric(train['dislike'],errors='coerce')\n",
    "train['views']=pd.to_numeric(train['views'],errors='coerce')"
   ]
  },
  {
   "cell_type": "code",
   "execution_count": 86,
   "metadata": {},
   "outputs": [
    {
     "data": {
      "text/plain": [
       "Video_id                  object\n",
       "category_id              float64\n",
       "subscriber               float64\n",
       "title                     object\n",
       "tags                      object\n",
       "description               object\n",
       "Trend_day_count          float64\n",
       "Tag_count                float64\n",
       "Trend_tag_count          float64\n",
       "comment_count            float64\n",
       "comment_disabled          object\n",
       "like dislike disabled     object\n",
       "likes                    float64\n",
       "dislike                  float64\n",
       "tag appered in title      object\n",
       "views                    float64\n",
       "dtype: object"
      ]
     },
     "execution_count": 86,
     "metadata": {},
     "output_type": "execute_result"
    }
   ],
   "source": [
    "train.dtypes"
   ]
  },
  {
   "attachments": {},
   "cell_type": "markdown",
   "metadata": {},
   "source": [
    "imputing null values with their mean, median and mode."
   ]
  },
  {
   "cell_type": "code",
   "execution_count": 89,
   "metadata": {},
   "outputs": [],
   "source": [
    "train['category_id'].replace(np.nan,train['category_id'].median(),inplace=True)\n",
    "train['subscriber'].replace(np.nan,train['subscriber'].mean(),inplace=True)\n",
    "train['title'].replace(np.nan,train['title'].mode()[0],inplace=True)\n",
    "train['tags'].replace(np.nan,train['tags'].mode()[0],inplace=True)\n",
    "train['description'].replace(np.nan,train['description'].mode()[0],inplace=True)\n",
    "train['Trend_day_count'].replace(np.nan,train['Trend_day_count'].mean(),inplace=True)\n",
    "train['Tag_count'].replace(np.nan,train['Tag_count'].mean(),inplace=True)\n",
    "train['Trend_tag_count'].replace(np.nan,train['Trend_tag_count'].mean(),inplace=True)\n",
    "train['comment_count'].replace(np.nan,train['comment_count'].median(),inplace=True)\n",
    "train['likes'].replace(np.nan,train['likes'].mean(),inplace=True)\n",
    "train['dislike'].replace(np.nan,train['dislike'].mean(),inplace=True)\n",
    "train['tag appered in title'].replace(np.nan,train['tag appered in title'].mean(),inplace=True)\n",
    "train['views'].replace(np.nan,train['views'].median(),inplace=True)"
   ]
  },
  {
   "cell_type": "code",
   "execution_count": 90,
   "metadata": {},
   "outputs": [
    {
     "data": {
      "text/plain": [
       "Video_id                 0\n",
       "category_id              0\n",
       "subscriber               0\n",
       "title                    0\n",
       "tags                     0\n",
       "description              0\n",
       "Trend_day_count          0\n",
       "Tag_count                0\n",
       "Trend_tag_count          0\n",
       "comment_count            0\n",
       "comment_disabled         0\n",
       "like dislike disabled    0\n",
       "likes                    0\n",
       "dislike                  0\n",
       "tag appered in title     0\n",
       "views                    0\n",
       "dtype: int64"
      ]
     },
     "execution_count": 90,
     "metadata": {},
     "output_type": "execute_result"
    }
   ],
   "source": [
    "train.isna().sum()"
   ]
  },
  {
   "attachments": {},
   "cell_type": "markdown",
   "metadata": {},
   "source": [
    "we can see that there are no null values seen in our data set."
   ]
  },
  {
   "attachments": {},
   "cell_type": "markdown",
   "metadata": {},
   "source": [
    "Hence we cant convert directly from object datatype to int we first converted it to float and now converting it to integer dtype."
   ]
  },
  {
   "cell_type": "code",
   "execution_count": 94,
   "metadata": {},
   "outputs": [],
   "source": [
    "train['category_id'] = train['category_id'].astype('int')\n",
    "train['subscriber'] = train['subscriber'].astype('int')\n",
    "train['Trend_day_count'] = train['Trend_day_count'].astype('int')\n",
    "train['Tag_count'] = train['Tag_count'].astype('int')\n",
    "train['Trend_tag_count'] = train['Trend_tag_count'].astype('int')\n",
    "train['comment_count'] = train['comment_count'].astype('int')\n",
    "train['likes'] = train['likes'].astype('int')\n",
    "train['dislike'] = train['dislike'].astype('int')\n",
    "train['views'] = train['views'].astype('int')"
   ]
  },
  {
   "attachments": {},
   "cell_type": "markdown",
   "metadata": {},
   "source": [
    "We can now see that the data types of the variables are perfect depending upon the values"
   ]
  },
  {
   "cell_type": "code",
   "execution_count": 95,
   "metadata": {},
   "outputs": [
    {
     "data": {
      "text/plain": [
       "Video_id                 object\n",
       "category_id               int32\n",
       "subscriber                int32\n",
       "title                    object\n",
       "tags                     object\n",
       "description              object\n",
       "Trend_day_count           int32\n",
       "Tag_count                 int32\n",
       "Trend_tag_count           int32\n",
       "comment_count             int32\n",
       "comment_disabled         object\n",
       "like dislike disabled    object\n",
       "likes                     int32\n",
       "dislike                   int32\n",
       "tag appered in title     object\n",
       "views                     int32\n",
       "dtype: object"
      ]
     },
     "execution_count": 95,
     "metadata": {},
     "output_type": "execute_result"
    }
   ],
   "source": [
    "train.dtypes"
   ]
  },
  {
   "attachments": {},
   "cell_type": "markdown",
   "metadata": {},
   "source": [
    "plottings"
   ]
  },
  {
   "cell_type": "code",
   "execution_count": 102,
   "metadata": {},
   "outputs": [
    {
     "data": {
      "text/plain": [
       "<AxesSubplot:>"
      ]
     },
     "execution_count": 102,
     "metadata": {},
     "output_type": "execute_result"
    },
    {
     "data": {
      "image/png": "[encoded data removed]",
      "text/plain": [
       "<Figure size 640x480 with 1 Axes>"
      ]
     },
     "metadata": {},
     "output_type": "display_data"
    }
   ],
   "source": [
    "train['category_id'].value_counts().plot(kind='barh')"
   ]
  },
  {
   "attachments": {},
   "cell_type": "markdown",
   "metadata": {},
   "source": [
    "The category id '24' is having the highest video uploaded"
   ]
  },
  {
   "attachments": {},
   "cell_type": "markdown",
   "metadata": {},
   "source": [
    "checking for outliers in each variables"
   ]
  },
  {
   "cell_type": "code",
   "execution_count": 112,
   "metadata": {},
   "outputs": [
    {
     "data": {
      "text/plain": [
       "<AxesSubplot:>"
      ]
     },
     "execution_count": 112,
     "metadata": {},
     "output_type": "execute_result"
    },
    {
     "data": {
      "image/png": "[encoded data removed]",
      "text/plain": [
       "<Figure size 640x480 with 1 Axes>"
      ]
     },
     "metadata": {},
     "output_type": "display_data"
    }
   ],
   "source": [
    "train['subscriber'].plot(kind='box')"
   ]
  },
  {
   "cell_type": "code",
   "execution_count": 113,
   "metadata": {},
   "outputs": [
    {
     "data": {
      "text/plain": [
       "<AxesSubplot:>"
      ]
     },
     "execution_count": 113,
     "metadata": {},
     "output_type": "execute_result"
    },
    {
     "data": {
      "image/png": "[encoded data removed]",
      "text/plain": [
       "<Figure size 640x480 with 1 Axes>"
      ]
     },
     "metadata": {},
     "output_type": "display_data"
    }
   ],
   "source": [
    "train['Trend_day_count'].plot(kind='box')"
   ]
  },
  {
   "cell_type": "code",
   "execution_count": 114,
   "metadata": {},
   "outputs": [
    {
     "data": {
      "text/plain": [
       "<AxesSubplot:>"
      ]
     },
     "execution_count": 114,
     "metadata": {},
     "output_type": "execute_result"
    },
    {
     "data": {
      "image/png": "[encoded data removed]",
      "text/plain": [
       "<Figure size 640x480 with 1 Axes>"
      ]
     },
     "metadata": {},
     "output_type": "display_data"
    }
   ],
   "source": [
    "train['Tag_count'].plot(kind='box')"
   ]
  },
  {
   "cell_type": "code",
   "execution_count": 115,
   "metadata": {},
   "outputs": [
    {
     "data": {
      "text/plain": [
       "<AxesSubplot:>"
      ]
     },
     "execution_count": 115,
     "metadata": {},
     "output_type": "execute_result"
    },
    {
     "data": {
      "image/png": "[encoded data removed]",
      "text/plain": [
       "<Figure size 640x480 with 1 Axes>"
      ]
     },
     "metadata": {},
     "output_type": "display_data"
    }
   ],
   "source": [
    "train['Trend_tag_count'].plot(kind='box')"
   ]
  },
  {
   "cell_type": "code",
   "execution_count": 116,
   "metadata": {},
   "outputs": [
    {
     "data": {
      "text/plain": [
       "<AxesSubplot:>"
      ]
     },
     "execution_count": 116,
     "metadata": {},
     "output_type": "execute_result"
    },
    {
     "data": {
      "image/png": "[encoded data removed]",
      "text/plain": [
       "<Figure size 640x480 with 1 Axes>"
      ]
     },
     "metadata": {},
     "output_type": "display_data"
    }
   ],
   "source": [
    "train['comment_count'].plot(kind='box')"
   ]
  },
  {
   "cell_type": "code",
   "execution_count": 117,
   "metadata": {},
   "outputs": [
    {
     "data": {
      "text/plain": [
       "<AxesSubplot:>"
      ]
     },
     "execution_count": 117,
     "metadata": {},
     "output_type": "execute_result"
    },
    {
     "data": {
      "image/png": "[encoded data removed]",
      "text/plain": [
       "<Figure size 640x480 with 1 Axes>"
      ]
     },
     "metadata": {},
     "output_type": "display_data"
    }
   ],
   "source": [
    "train['likes'].plot(kind='box')"
   ]
  },
  {
   "cell_type": "code",
   "execution_count": 118,
   "metadata": {},
   "outputs": [
    {
     "data": {
      "text/plain": [
       "<AxesSubplot:>"
      ]
     },
     "execution_count": 118,
     "metadata": {},
     "output_type": "execute_result"
    },
    {
     "data": {
      "image/png": "[encoded data removed]",
      "text/plain": [
       "<Figure size 640x480 with 1 Axes>"
      ]
     },
     "metadata": {},
     "output_type": "display_data"
    }
   ],
   "source": [
    "train['dislike'].plot(kind='box')"
   ]
  },
  {
   "cell_type": "code",
   "execution_count": 119,
   "metadata": {},
   "outputs": [
    {
     "data": {
      "text/plain": [
       "<AxesSubplot:>"
      ]
     },
     "execution_count": 119,
     "metadata": {},
     "output_type": "execute_result"
    },
    {
     "data": {
      "image/png": "[encoded data removed]",
      "text/plain": [
       "<Figure size 640x480 with 1 Axes>"
      ]
     },
     "metadata": {},
     "output_type": "display_data"
    }
   ],
   "source": [
    "train['views'].plot(kind='box')"
   ]
  },
  {
   "attachments": {},
   "cell_type": "markdown",
   "metadata": {},
   "source": [
    "Defining a function for removing outlier because it will be easy for removing outliers from many variables as we can call the function easily"
   ]
  },
  {
   "cell_type": "code",
   "execution_count": 99,
   "metadata": {},
   "outputs": [],
   "source": [
    "def rem_outliers(col):\n",
    "    sorted(col)\n",
    "    q1,q3=col.quantile([0.25,0.75])\n",
    "    IQR=q3-q1\n",
    "    lower_range=q1-(1.5*IQR)\n",
    "    upper_range=q3+(1.5*IQR)\n",
    "    return lower_range, upper_range"
   ]
  },
  {
   "cell_type": "code",
   "execution_count": 138,
   "metadata": {},
   "outputs": [],
   "source": [
    "low_lmt,up_lmt=rem_outliers(train['subscriber'])\n",
    "train=train[(train.subscriber>low_lmt) & (train.subscriber<up_lmt)]"
   ]
  },
  {
   "cell_type": "code",
   "execution_count": 122,
   "metadata": {},
   "outputs": [],
   "source": [
    "low_lmt,up_lmt=rem_outliers(train['Trend_day_count'])\n",
    "train=train[(train.Trend_day_count>low_lmt) & (train.Trend_day_count<up_lmt)]"
   ]
  },
  {
   "cell_type": "code",
   "execution_count": 123,
   "metadata": {},
   "outputs": [],
   "source": [
    "low_lmt,up_lmt=rem_outliers(train['Tag_count'])\n",
    "train=train[(train.Tag_count>low_lmt) & (train.Tag_count<up_lmt)]"
   ]
  },
  {
   "cell_type": "code",
   "execution_count": 124,
   "metadata": {},
   "outputs": [],
   "source": [
    "low_lmt,up_lmt=rem_outliers(train['Trend_tag_count'])\n",
    "train=train[(train.Trend_tag_count>low_lmt) & (train.Trend_tag_count<up_lmt)]"
   ]
  },
  {
   "cell_type": "code",
   "execution_count": 126,
   "metadata": {},
   "outputs": [],
   "source": [
    "low_lmt,up_lmt=rem_outliers(train['comment_count'])\n",
    "train=train[(train.comment_count>low_lmt) & (train.comment_count<up_lmt)]"
   ]
  },
  {
   "cell_type": "code",
   "execution_count": 125,
   "metadata": {},
   "outputs": [],
   "source": [
    "low_lmt,up_lmt=rem_outliers(train['likes'])\n",
    "train=train[(train.likes>low_lmt) & (train.likes<up_lmt)]"
   ]
  },
  {
   "cell_type": "code",
   "execution_count": 127,
   "metadata": {},
   "outputs": [],
   "source": [
    "low_lmt,up_lmt=rem_outliers(train['dislike'])\n",
    "train=train[(train.dislike>low_lmt) & (train.dislike<up_lmt)]"
   ]
  },
  {
   "cell_type": "code",
   "execution_count": 139,
   "metadata": {},
   "outputs": [
    {
     "data": {
      "text/plain": [
       "<AxesSubplot:>"
      ]
     },
     "execution_count": 139,
     "metadata": {},
     "output_type": "execute_result"
    },
    {
     "data": {
      "image/png": "[encoded data removed]",
      "text/plain": [
       "<Figure size 640x480 with 1 Axes>"
      ]
     },
     "metadata": {},
     "output_type": "display_data"
    }
   ],
   "source": [
    "train['subscriber'].plot(kind='box')"
   ]
  },
  {
   "attachments": {},
   "cell_type": "markdown",
   "metadata": {},
   "source": [
    "Now we can see that there are no outliers in subscriber variable."
   ]
  },
  {
   "cell_type": "code",
   "execution_count": 140,
   "metadata": {},
   "outputs": [
    {
     "data": {
      "text/html": [
       "<div>\n",
       "<style scoped>\n",
       "    .dataframe tbody tr th:only-of-type {\n",
       "        vertical-align: middle;\n",
       "    }\n",
       "\n",
       "    .dataframe tbody tr th {\n",
       "        vertical-align: top;\n",
       "    }\n",
       "\n",
       "    .dataframe thead th {\n",
       "        text-align: right;\n",
       "    }\n",
       "</style>\n",
       "<table border=\"1\" class=\"dataframe\">\n",
       "  <thead>\n",
       "    <tr style=\"text-align: right;\">\n",
       "      <th></th>\n",
       "      <th>category_id</th>\n",
       "      <th>subscriber</th>\n",
       "      <th>Trend_day_count</th>\n",
       "      <th>Tag_count</th>\n",
       "      <th>Trend_tag_count</th>\n",
       "      <th>comment_count</th>\n",
       "      <th>likes</th>\n",
       "      <th>dislike</th>\n",
       "      <th>views</th>\n",
       "    </tr>\n",
       "  </thead>\n",
       "  <tbody>\n",
       "    <tr>\n",
       "      <th>category_id</th>\n",
       "      <td>1.000000</td>\n",
       "      <td>0.137357</td>\n",
       "      <td>0.010821</td>\n",
       "      <td>0.015124</td>\n",
       "      <td>0.014780</td>\n",
       "      <td>0.010865</td>\n",
       "      <td>0.025747</td>\n",
       "      <td>0.017623</td>\n",
       "      <td>-0.037072</td>\n",
       "    </tr>\n",
       "    <tr>\n",
       "      <th>subscriber</th>\n",
       "      <td>0.137357</td>\n",
       "      <td>1.000000</td>\n",
       "      <td>0.031389</td>\n",
       "      <td>-0.010293</td>\n",
       "      <td>0.034597</td>\n",
       "      <td>-0.001608</td>\n",
       "      <td>0.034938</td>\n",
       "      <td>0.036535</td>\n",
       "      <td>-0.005072</td>\n",
       "    </tr>\n",
       "    <tr>\n",
       "      <th>Trend_day_count</th>\n",
       "      <td>0.010821</td>\n",
       "      <td>0.031389</td>\n",
       "      <td>1.000000</td>\n",
       "      <td>-0.022530</td>\n",
       "      <td>-0.022577</td>\n",
       "      <td>0.002526</td>\n",
       "      <td>-0.015170</td>\n",
       "      <td>-0.015472</td>\n",
       "      <td>0.014524</td>\n",
       "    </tr>\n",
       "    <tr>\n",
       "      <th>Tag_count</th>\n",
       "      <td>0.015124</td>\n",
       "      <td>-0.010293</td>\n",
       "      <td>-0.022530</td>\n",
       "      <td>1.000000</td>\n",
       "      <td>-0.009058</td>\n",
       "      <td>-0.016381</td>\n",
       "      <td>-0.027296</td>\n",
       "      <td>-0.024102</td>\n",
       "      <td>-0.001531</td>\n",
       "    </tr>\n",
       "    <tr>\n",
       "      <th>Trend_tag_count</th>\n",
       "      <td>0.014780</td>\n",
       "      <td>0.034597</td>\n",
       "      <td>-0.022577</td>\n",
       "      <td>-0.009058</td>\n",
       "      <td>1.000000</td>\n",
       "      <td>-0.002241</td>\n",
       "      <td>-0.006537</td>\n",
       "      <td>-0.008228</td>\n",
       "      <td>-0.029683</td>\n",
       "    </tr>\n",
       "    <tr>\n",
       "      <th>comment_count</th>\n",
       "      <td>0.010865</td>\n",
       "      <td>-0.001608</td>\n",
       "      <td>0.002526</td>\n",
       "      <td>-0.016381</td>\n",
       "      <td>-0.002241</td>\n",
       "      <td>1.000000</td>\n",
       "      <td>0.005050</td>\n",
       "      <td>-0.001416</td>\n",
       "      <td>0.036455</td>\n",
       "    </tr>\n",
       "    <tr>\n",
       "      <th>likes</th>\n",
       "      <td>0.025747</td>\n",
       "      <td>0.034938</td>\n",
       "      <td>-0.015170</td>\n",
       "      <td>-0.027296</td>\n",
       "      <td>-0.006537</td>\n",
       "      <td>0.005050</td>\n",
       "      <td>1.000000</td>\n",
       "      <td>0.915572</td>\n",
       "      <td>-0.023523</td>\n",
       "    </tr>\n",
       "    <tr>\n",
       "      <th>dislike</th>\n",
       "      <td>0.017623</td>\n",
       "      <td>0.036535</td>\n",
       "      <td>-0.015472</td>\n",
       "      <td>-0.024102</td>\n",
       "      <td>-0.008228</td>\n",
       "      <td>-0.001416</td>\n",
       "      <td>0.915572</td>\n",
       "      <td>1.000000</td>\n",
       "      <td>-0.027810</td>\n",
       "    </tr>\n",
       "    <tr>\n",
       "      <th>views</th>\n",
       "      <td>-0.037072</td>\n",
       "      <td>-0.005072</td>\n",
       "      <td>0.014524</td>\n",
       "      <td>-0.001531</td>\n",
       "      <td>-0.029683</td>\n",
       "      <td>0.036455</td>\n",
       "      <td>-0.023523</td>\n",
       "      <td>-0.027810</td>\n",
       "      <td>1.000000</td>\n",
       "    </tr>\n",
       "  </tbody>\n",
       "</table>\n",
       "</div>"
      ],
      "text/plain": [
       "                 category_id  subscriber  Trend_day_count  Tag_count  \\\n",
       "category_id         1.000000    0.137357         0.010821   0.015124   \n",
       "subscriber          0.137357    1.000000         0.031389  -0.010293   \n",
       "Trend_day_count     0.010821    0.031389         1.000000  -0.022530   \n",
       "Tag_count           0.015124   -0.010293        -0.022530   1.000000   \n",
       "Trend_tag_count     0.014780    0.034597        -0.022577  -0.009058   \n",
       "comment_count       0.010865   -0.001608         0.002526  -0.016381   \n",
       "likes               0.025747    0.034938        -0.015170  -0.027296   \n",
       "dislike             0.017623    0.036535        -0.015472  -0.024102   \n",
       "views              -0.037072   -0.005072         0.014524  -0.001531   \n",
       "\n",
       "                 Trend_tag_count  comment_count     likes   dislike     views  \n",
       "category_id             0.014780       0.010865  0.025747  0.017623 -0.037072  \n",
       "subscriber              0.034597      -0.001608  0.034938  0.036535 -0.005072  \n",
       "Trend_day_count        -0.022577       0.002526 -0.015170 -0.015472  0.014524  \n",
       "Tag_count              -0.009058      -0.016381 -0.027296 -0.024102 -0.001531  \n",
       "Trend_tag_count         1.000000      -0.002241 -0.006537 -0.008228 -0.029683  \n",
       "comment_count          -0.002241       1.000000  0.005050 -0.001416  0.036455  \n",
       "likes                  -0.006537       0.005050  1.000000  0.915572 -0.023523  \n",
       "dislike                -0.008228      -0.001416  0.915572  1.000000 -0.027810  \n",
       "views                  -0.029683       0.036455 -0.023523 -0.027810  1.000000  "
      ]
     },
     "execution_count": 140,
     "metadata": {},
     "output_type": "execute_result"
    }
   ],
   "source": [
    "train.corr()"
   ]
  },
  {
   "cell_type": "code",
   "execution_count": 152,
   "metadata": {},
   "outputs": [],
   "source": [
    "def chi_test(var1,var2):\n",
    "    tab=pd.crosstab(var1,var2)\n",
    "    _, p, _, _ = chi2_contingency(tab, correction=False)\n",
    "    if p<0.05:\n",
    "        print(\"Reject the null hypothesis and accept the Alternate Hypothesis\",round(p,2))\n",
    "    else:\n",
    "        print(\"Failed to reject the null hypothesis\",round(p,2))"
   ]
  },
  {
   "attachments": {},
   "cell_type": "markdown",
   "metadata": {},
   "source": [
    "Ho: Subscriber count does not impacts the view count\n",
    "\n",
    "Ha: Subscriber count impacts the view count"
   ]
  },
  {
   "cell_type": "code",
   "execution_count": 153,
   "metadata": {},
   "outputs": [
    {
     "name": "stdout",
     "output_type": "stream",
     "text": [
      "Failed to reject the null hypothesis 0.12\n"
     ]
    }
   ],
   "source": [
    "chi_test(train['subscriber'],train['views'])"
   ]
  },
  {
   "attachments": {},
   "cell_type": "markdown",
   "metadata": {},
   "source": [
    "Ho: Trend tag count does not impacts the view count\n",
    "\n",
    "Ha: trend tag count impacts the view count"
   ]
  },
  {
   "cell_type": "code",
   "execution_count": 165,
   "metadata": {},
   "outputs": [
    {
     "name": "stdout",
     "output_type": "stream",
     "text": [
      "Failed to reject the null hypothesis 0.46\n"
     ]
    }
   ],
   "source": [
    "chi_test(train['Trend_tag_count'],train['views'])"
   ]
  },
  {
   "attachments": {},
   "cell_type": "markdown",
   "metadata": {},
   "source": [
    "Ho: description does not impacts the view count\n",
    "\n",
    "Ha: description impacts the view count"
   ]
  },
  {
   "cell_type": "code",
   "execution_count": 166,
   "metadata": {},
   "outputs": [
    {
     "name": "stdout",
     "output_type": "stream",
     "text": [
      "Failed to reject the null hypothesis 0.18\n"
     ]
    }
   ],
   "source": [
    "chi_test(train['description'],train['views'])"
   ]
  },
  {
   "cell_type": "code",
   "execution_count": 167,
   "metadata": {},
   "outputs": [
    {
     "name": "stdout",
     "output_type": "stream",
     "text": [
      "Reject the null hypothesis and accept the Alternate Hypothesis 0.0\n"
     ]
    }
   ],
   "source": [
    "chi_test(train['dislike'],train['likes'])"
   ]
  }
 ],
 "metadata": {
  "kernelspec": {
   "display_name": "base",
   "language": "python",
   "name": "python3"
  },
  "language_info": {
   "codemirror_mode": {
    "name": "ipython",
    "version": 3
   },
   "file_extension": ".py",
   "mimetype": "text/x-python",
   "name": "python",
   "nbconvert_exporter": "python",
   "pygments_lexer": "ipython3",
   "version": "3.9.13 (main, Aug 25 2022, 23:51:50) [MSC v.1916 64 bit (AMD64)]"
  },
  "orig_nbformat": 4,
  "vscode": {
   "interpreter": {
    "hash": "7679c2132d3f6ce38c9df14d554b39c06862b36a4e6689c81f9ae15bd0911d7d"
   }
  }
 },
 "nbformat": 4,
 "nbformat_minor": 2
}
